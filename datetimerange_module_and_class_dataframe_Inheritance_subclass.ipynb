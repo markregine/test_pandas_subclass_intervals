{
 "cells": [
  {
   "cell_type": "markdown",
   "metadata": {},
   "source": [
    "# datetimerange module"
   ]
  },
  {
   "cell_type": "code",
   "execution_count": null,
   "metadata": {},
   "outputs": [],
   "source": [
    "import datetimerange as dtr\n",
    "import datetime as datetime"
   ]
  },
  {
   "cell_type": "code",
   "execution_count": null,
   "metadata": {},
   "outputs": [],
   "source": [
    "range1 = dtr.DateTimeRange(\"2015-03-01\", \"2015-03-31\")\n",
    "range2 = dtr.DateTimeRange(\"2015-03-15\", \"2015-04-30\")"
   ]
  },
  {
   "cell_type": "code",
   "execution_count": null,
   "metadata": {},
   "outputs": [],
   "source": [
    "print(\"2015-03-01\" in range1)\n",
    "print(\"2015-04-01\" in range1)"
   ]
  },
  {
   "cell_type": "markdown",
   "metadata": {},
   "source": [
    "### Shift the entire range"
   ]
  },
  {
   "cell_type": "code",
   "execution_count": null,
   "metadata": {},
   "outputs": [],
   "source": [
    "range1 + datetime.timedelta(days=7)"
   ]
  },
  {
   "cell_type": "markdown",
   "metadata": {},
   "source": [
    "### Add elapsed time when conversion to string"
   ]
  },
  {
   "cell_type": "code",
   "execution_count": null,
   "metadata": {},
   "outputs": [],
   "source": [
    "range1.is_output_elapse = False\n",
    "print(\"before truncate: \", range1)"
   ]
  },
  {
   "cell_type": "markdown",
   "metadata": {},
   "source": [
    "### How long is the range"
   ]
  },
  {
   "cell_type": "code",
   "execution_count": null,
   "metadata": {},
   "outputs": [],
   "source": [
    "range1.timedelta"
   ]
  },
  {
   "cell_type": "markdown",
   "metadata": {},
   "source": [
    "### Intersection"
   ]
  },
  {
   "cell_type": "code",
   "execution_count": null,
   "metadata": {},
   "outputs": [],
   "source": [
    "range1.is_intersection(range2)"
   ]
  },
  {
   "cell_type": "markdown",
   "metadata": {},
   "source": [
    "* #### Return the intersectied part"
   ]
  },
  {
   "cell_type": "code",
   "execution_count": null,
   "metadata": {},
   "outputs": [],
   "source": [
    "range1.intersection(range2)"
   ]
  },
  {
   "cell_type": "markdown",
   "metadata": {},
   "source": [
    "* #### Change the dateranges"
   ]
  },
  {
   "cell_type": "code",
   "execution_count": null,
   "metadata": {},
   "outputs": [],
   "source": [
    "range1 = dtr.DateTimeRange(\"2015-03-01\", \"2015-03-31\")\n",
    "range2 = dtr.DateTimeRange(\"2015-03-31\", \"2015-04-30\")"
   ]
  },
  {
   "cell_type": "code",
   "execution_count": null,
   "metadata": {},
   "outputs": [],
   "source": [
    "range1.is_intersection(range2)"
   ]
  },
  {
   "cell_type": "markdown",
   "metadata": {},
   "source": [
    "### truncate timerange"
   ]
  },
  {
   "cell_type": "code",
   "execution_count": null,
   "metadata": {},
   "outputs": [],
   "source": [
    "range1.is_output_elapse = True\n",
    "print(\"before truncate: \", range1)\n",
    "\n",
    "range1.truncate((1/30)* 100)\n",
    "print(\"after truncate:  \", range1)\n",
    "\n",
    "range1.is_output_elapse = False"
   ]
  },
  {
   "cell_type": "code",
   "execution_count": null,
   "metadata": {},
   "outputs": [],
   "source": []
  },
  {
   "cell_type": "code",
   "execution_count": null,
   "metadata": {},
   "outputs": [],
   "source": [
    "range1 = dtr.DateTimeRange(\"2015-03-01\", \"2015-03-31\")\n",
    "range2 = dtr.DateTimeRange(\"2015-03-15\", \"2015-04-30\")"
   ]
  },
  {
   "cell_type": "code",
   "execution_count": null,
   "metadata": {},
   "outputs": [],
   "source": [
    "range1.encompass(range2)"
   ]
  },
  {
   "cell_type": "code",
   "execution_count": null,
   "metadata": {},
   "outputs": [],
   "source": [
    "range1 = dtr.DateTimeRange(\"2015-03-01\", \"2015-03-31\")\n",
    "range2 = dtr.DateTimeRange(\"2015-03-15\", \"2015-04-30\")"
   ]
  },
  {
   "cell_type": "code",
   "execution_count": null,
   "metadata": {},
   "outputs": [],
   "source": [
    "if range1.is_intersection(range2):\n",
    "    intersection_days = range1.intersection(range2).timedelta\n",
    "    print(intersection_days)\n",
    "    t = range1.encompass(range2)\n",
    "    t.set_end_datetime(t.end_datetime + intersection_days )\n",
    "    print(t)"
   ]
  },
  {
   "cell_type": "code",
   "execution_count": null,
   "metadata": {},
   "outputs": [],
   "source": []
  },
  {
   "cell_type": "code",
   "execution_count": null,
   "metadata": {},
   "outputs": [],
   "source": []
  },
  {
   "cell_type": "code",
   "execution_count": null,
   "metadata": {},
   "outputs": [],
   "source": []
  },
  {
   "cell_type": "code",
   "execution_count": null,
   "metadata": {},
   "outputs": [],
   "source": []
  },
  {
   "cell_type": "code",
   "execution_count": null,
   "metadata": {},
   "outputs": [],
   "source": []
  },
  {
   "cell_type": "markdown",
   "metadata": {},
   "source": [
    "# python-intervals package  \n",
    "    pip install python-intervals"
   ]
  },
  {
   "cell_type": "code",
   "execution_count": null,
   "metadata": {},
   "outputs": [],
   "source": [
    "import intervals as I"
   ]
  },
  {
   "cell_type": "code",
   "execution_count": null,
   "metadata": {},
   "outputs": [],
   "source": [
    "interval1 = I.closed(datetime.datetime(2018,1,1),datetime.datetime(2018,1,31))\n",
    "interval2 = I.closed(datetime.datetime(2018,1,31),datetime.datetime(2018,2,28))"
   ]
  },
  {
   "cell_type": "code",
   "execution_count": null,
   "metadata": {},
   "outputs": [],
   "source": [
    "interval1.overlaps(interval2)"
   ]
  },
  {
   "cell_type": "code",
   "execution_count": null,
   "metadata": {},
   "outputs": [],
   "source": [
    "interval1 = I.closed(datetime.datetime(2018,1,1),datetime.datetime(2018,1,31))\n",
    "interval2 = I.closed(datetime.datetime(2018,1,15),datetime.datetime(2018,2,28))"
   ]
  },
  {
   "cell_type": "code",
   "execution_count": null,
   "metadata": {},
   "outputs": [],
   "source": [
    "interval1.union(interval2)"
   ]
  },
  {
   "cell_type": "code",
   "execution_count": null,
   "metadata": {},
   "outputs": [],
   "source": [
    "interval1.intersection(interval2)"
   ]
  },
  {
   "cell_type": "code",
   "execution_count": null,
   "metadata": {},
   "outputs": [],
   "source": [
    "interval1.complement(interval2)"
   ]
  },
  {
   "cell_type": "code",
   "execution_count": null,
   "metadata": {},
   "outputs": [],
   "source": []
  },
  {
   "cell_type": "markdown",
   "metadata": {},
   "source": [
    "# Subclass of pandas\n",
    "http://devanla.com/case-for-inheriting-from-pandas-dataframe.html"
   ]
  },
  {
   "cell_type": "code",
   "execution_count": null,
   "metadata": {},
   "outputs": [],
   "source": [
    "import pandas as pd\n",
    "import numpy as np"
   ]
  },
  {
   "cell_type": "code",
   "execution_count": null,
   "metadata": {},
   "outputs": [],
   "source": [
    "df = pd.DataFrame({'first':list('mark'), 'last':list('regi'), 'age':[i for i in range(0,4)]})\n",
    "df.loc[2, 'last'] = np.nan"
   ]
  },
  {
   "cell_type": "code",
   "execution_count": null,
   "metadata": {},
   "outputs": [],
   "source": [
    "df"
   ]
  },
  {
   "cell_type": "code",
   "execution_count": null,
   "metadata": {},
   "outputs": [],
   "source": [
    "class DFClassGenerator:\n",
    "\n",
    "    CLASS_HEADER = 'class {class_name}(pd.DataFrame):'\n",
    "    COLUMNS = '    {var} = \"{label}\"'   # we cheat an encode 4 spaces here,for demo\n",
    "\n",
    "    CONSTRUCTOR =  (\"    @property\\n\"\n",
    "                    \"    def _constructor(self):\\n\"\n",
    "                    \"        return {class_name}\")\n",
    "\n",
    "    @classmethod\n",
    "    def generate_class(cls, df, class_name):\n",
    "\n",
    "        cols = [cls.COLUMNS.format(var=c.upper(), label=c)\n",
    "                for c in df.columns] # works for single hierarchical column index\n",
    "\n",
    "        lines = [cls.CLASS_HEADER.format(class_name=class_name)]\n",
    "        constructor = cls.CONSTRUCTOR.format(class_name=class_name)\n",
    "        source_code = '\\n'.join(lines + cols) + '\\n\\n' + constructor\n",
    "        #print(source_code)\n",
    "        \n",
    "        \n"
   ]
  },
  {
   "cell_type": "code",
   "execution_count": null,
   "metadata": {},
   "outputs": [],
   "source": [
    "source_code = DFClassGenerator.generate_class(df, 'raw_df')\n",
    "#print(source_code)\n",
    "\n",
    "class raw_df(pd.DataFrame):\n",
    "    #SCORES = 'scores'\n",
    "    #NAME = 'name'\n",
    "\n",
    "    @property\n",
    "    def _constructor(self):\n",
    "        return raw_df\n",
    "\n",
    "    raw_df.keep_col = raw_df.columns  "
   ]
  },
  {
   "cell_type": "code",
   "execution_count": null,
   "metadata": {},
   "outputs": [],
   "source": [
    "rx = raw_df(df)"
   ]
  },
  {
   "cell_type": "code",
   "execution_count": null,
   "metadata": {},
   "outputs": [],
   "source": [
    "rx.columns"
   ]
  },
  {
   "cell_type": "code",
   "execution_count": null,
   "metadata": {},
   "outputs": [],
   "source": []
  },
  {
   "cell_type": "code",
   "execution_count": null,
   "metadata": {},
   "outputs": [],
   "source": []
  },
  {
   "cell_type": "code",
   "execution_count": null,
   "metadata": {},
   "outputs": [],
   "source": []
  },
  {
   "cell_type": "markdown",
   "metadata": {},
   "source": [
    "# Subclass of Pandas 2\n",
    "https://www.kaggle.com/vinceniko/custom-pandas-subclass"
   ]
  },
  {
   "cell_type": "code",
   "execution_count": 85,
   "metadata": {},
   "outputs": [],
   "source": [
    "import pandas as pd\n",
    "import numpy as np\n",
    "\n",
    "class raw_data_df(pd.DataFrame):\n",
    "    \"\"\"\n",
    "\n",
    "    \"\"\"\n",
    "\n",
    "    def __init__(self, df, keep_subset_of_columns):\n",
    "        super().__init__(df)  # initialize subclass from DataFrame instance\n",
    "        \n",
    "        self.raw_columns_not_kept = set(self.columns).difference(set(keep_subset_of_columns))\n",
    "        \n",
    "    def strip_white_space_from_dtype_object_columns(self):\n",
    "        column_names = self.select_dtypes([object])\\\n",
    "                        .columns\n",
    "        for i in column_names:\n",
    "            self[i] = self[i].str.strip()\n",
    "        return self"
   ]
  },
  {
   "cell_type": "code",
   "execution_count": 86,
   "metadata": {},
   "outputs": [
    {
     "name": "stderr",
     "output_type": "stream",
     "text": [
      "C:\\ProgramData\\Anaconda3\\lib\\site-packages\\ipykernel_launcher.py:18: UserWarning: Pandas doesn't allow columns to be created via a new attribute name - see https://pandas.pydata.org/pandas-docs/stable/indexing.html#attribute-access\n"
     ]
    }
   ],
   "source": [
    "df = pd.DataFrame({'first':list('mark'), 'last':list('regi'), 'age':[i for i in range(0,4)]})\n",
    "df.loc[2, 'last'] = np.nan\n",
    "df.loc[0, 'last'] = '               r              '\n",
    "\n",
    "c = raw_data_df(df, keep_subset_of_columns=['age'])"
   ]
  },
  {
   "cell_type": "code",
   "execution_count": 87,
   "metadata": {},
   "outputs": [
    {
     "name": "stdout",
     "output_type": "stream",
     "text": [
      "0    30.0\n",
      "1     1.0\n",
      "2     NaN\n",
      "3     1.0\n",
      "Name: last, dtype: float64\n",
      "0    1.0\n",
      "1    1.0\n",
      "2    NaN\n",
      "3    1.0\n",
      "Name: last, dtype: float64\n"
     ]
    }
   ],
   "source": [
    "print(c['last'].str.len())\n",
    "c = c.strip_white_space_from_dtype_object_columns()\n",
    "print(c['last'].str.len())"
   ]
  },
  {
   "cell_type": "code",
   "execution_count": null,
   "metadata": {},
   "outputs": [],
   "source": []
  },
  {
   "cell_type": "code",
   "execution_count": null,
   "metadata": {},
   "outputs": [],
   "source": []
  },
  {
   "cell_type": "code",
   "execution_count": null,
   "metadata": {},
   "outputs": [],
   "source": []
  },
  {
   "cell_type": "code",
   "execution_count": null,
   "metadata": {},
   "outputs": [],
   "source": []
  }
 ],
 "metadata": {
  "kernelspec": {
   "display_name": "Python 3",
   "language": "python",
   "name": "python3"
  },
  "language_info": {
   "codemirror_mode": {
    "name": "ipython",
    "version": 3
   },
   "file_extension": ".py",
   "mimetype": "text/x-python",
   "name": "python",
   "nbconvert_exporter": "python",
   "pygments_lexer": "ipython3",
   "version": "3.7.0"
  }
 },
 "nbformat": 4,
 "nbformat_minor": 2
}
